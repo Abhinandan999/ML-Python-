{
 "cells": [
  {
   "cell_type": "markdown",
   "id": "a640cc9f-d392-4839-8e71-97ea555c5475",
   "metadata": {},
   "source": [
    "**Welcome to Python**\n"
   ]
  },
  {
   "cell_type": "code",
   "execution_count": 7,
   "id": "7e7765bd-ac74-415f-81a2-b0fa530dd75b",
   "metadata": {},
   "outputs": [
    {
     "name": "stdout",
     "output_type": "stream",
     "text": [
      "Hello World!!!\n"
     ]
    }
   ],
   "source": [
    "print(\"Hello World!!!\")"
   ]
  },
  {
   "cell_type": "code",
   "execution_count": 5,
   "id": "0bb27c52-0100-4938-b630-2cc374f983fe",
   "metadata": {},
   "outputs": [
    {
     "name": "stdout",
     "output_type": "stream",
     "text": [
      "[1 2 3 4 5]\n"
     ]
    }
   ],
   "source": [
    "\n",
    "import numpy as np\n",
    "arr=np.array([1,2,3,4,5])\n",
    "\n",
    "print(arr)"
   ]
  },
  {
   "cell_type": "markdown",
   "id": "ec84d5a6-806a-4898-8bd1-412487c44bde",
   "metadata": {},
   "source": [
    "***Printing Array,size,shape and its datatype***"
   ]
  },
  {
   "cell_type": "code",
   "execution_count": 8,
   "id": "263ee9f8-6dcd-4534-8840-1c90c3ce498e",
   "metadata": {},
   "outputs": [
    {
     "name": "stdout",
     "output_type": "stream",
     "text": [
      "2\n"
     ]
    }
   ],
   "source": [
    "print(arr[1])"
   ]
  },
  {
   "cell_type": "code",
   "execution_count": 10,
   "id": "9fdedc67-bf7b-40ed-acee-03f63e89d2a5",
   "metadata": {},
   "outputs": [],
   "source": [
    "myarr=([78,97,45,78,95,23,np.int64])"
   ]
  },
  {
   "cell_type": "code",
   "execution_count": 13,
   "id": "f70aa2ae-c665-4d5a-acd8-f4ba4fe265ed",
   "metadata": {},
   "outputs": [
    {
     "name": "stdout",
     "output_type": "stream",
     "text": [
      "[78, 97, 45, 78, 95, 23, <class 'numpy.int64'>]\n",
      "97\n"
     ]
    }
   ],
   "source": [
    "print(myarr)\n",
    "print(myarr[1])"
   ]
  },
  {
   "cell_type": "markdown",
   "id": "b5366fa5-e07e-4df9-954c-e812ee189f99",
   "metadata": {},
   "source": [
    "****Maths operations***"
   ]
  },
  {
   "cell_type": "code",
   "execution_count": 16,
   "id": "e201d87e-2e4e-413a-87d6-6ca46b0914f0",
   "metadata": {},
   "outputs": [
    {
     "name": "stdout",
     "output_type": "stream",
     "text": [
      "80\n"
     ]
    }
   ],
   "source": [
    "print(myarr[0]+arr[1])"
   ]
  },
  {
   "cell_type": "code",
   "execution_count": 18,
   "id": "f0ab50a7-a217-474c-a6b7-2b18f8ca9ac7",
   "metadata": {},
   "outputs": [
    {
     "name": "stdout",
     "output_type": "stream",
     "text": [
      "95\n"
     ]
    }
   ],
   "source": [
    "print(myarr[1]-arr[1])"
   ]
  },
  {
   "cell_type": "code",
   "execution_count": 19,
   "id": "1beac764-f67f-4755-9e08-4a6f90c9afab",
   "metadata": {},
   "outputs": [
    {
     "name": "stdout",
     "output_type": "stream",
     "text": [
      "234\n"
     ]
    }
   ],
   "source": [
    "print(myarr[3]*arr[2])"
   ]
  },
  {
   "cell_type": "code",
   "execution_count": 20,
   "id": "bf5aad18-4512-4e1e-bf08-79d011d3c9b3",
   "metadata": {},
   "outputs": [
    {
     "name": "stdout",
     "output_type": "stream",
     "text": [
      "47.5\n"
     ]
    }
   ],
   "source": [
    "print(myarr[4]/arr[1])"
   ]
  },
  {
   "cell_type": "code",
   "execution_count": 21,
   "id": "14322fd9-d6a5-428e-a67a-3f329fdfe448",
   "metadata": {},
   "outputs": [
    {
     "name": "stdout",
     "output_type": "stream",
     "text": [
      "20\n"
     ]
    }
   ],
   "source": [
    "print(myarr[5]-arr[2])"
   ]
  },
  {
   "cell_type": "markdown",
   "id": "73c87217-1741-475a-885e-1054cb228a0f",
   "metadata": {},
   "source": [
    "****Some special arrays****"
   ]
  },
  {
   "cell_type": "code",
   "execution_count": 28,
   "id": "aaa14445-5b41-49ef-8930-eaa2c89443e7",
   "metadata": {},
   "outputs": [],
   "source": [
    "zeros=np.zeros((2,5))"
   ]
  },
  {
   "cell_type": "code",
   "execution_count": 29,
   "id": "f7ba6d96-acaf-4066-9e48-00c8aac6142e",
   "metadata": {},
   "outputs": [
    {
     "data": {
      "text/plain": [
       "array([[0., 0., 0., 0., 0.],\n",
       "       [0., 0., 0., 0., 0.]])"
      ]
     },
     "execution_count": 29,
     "metadata": {},
     "output_type": "execute_result"
    }
   ],
   "source": [
    "zeros"
   ]
  },
  {
   "cell_type": "code",
   "execution_count": 30,
   "id": "d0abcdc4-eacd-424a-8d22-661a9a559019",
   "metadata": {},
   "outputs": [],
   "source": [
    "ones=np.ones((2,3))"
   ]
  },
  {
   "cell_type": "code",
   "execution_count": 31,
   "id": "9c70ef72-1b00-4de5-b058-81e06d845fd1",
   "metadata": {},
   "outputs": [
    {
     "data": {
      "text/plain": [
       "array([[1., 1., 1.],\n",
       "       [1., 1., 1.]])"
      ]
     },
     "execution_count": 31,
     "metadata": {},
     "output_type": "execute_result"
    }
   ],
   "source": [
    "ones\n"
   ]
  },
  {
   "cell_type": "code",
   "execution_count": 32,
   "id": "6d55cb82-5b5f-44c1-be32-5b39b9f9e692",
   "metadata": {},
   "outputs": [
    {
     "data": {
      "text/plain": [
       "dtype('float64')"
      ]
     },
     "execution_count": 32,
     "metadata": {},
     "output_type": "execute_result"
    }
   ],
   "source": [
    "ones.dtype"
   ]
  },
  {
   "cell_type": "markdown",
   "id": "b30bf783-aa51-4525-b459-023bc24919b5",
   "metadata": {},
   "source": [
    "****Ranges****"
   ]
  },
  {
   "cell_type": "code",
   "execution_count": 34,
   "id": "f1d11e14-75f9-4334-8385-ed5b0120a81e",
   "metadata": {},
   "outputs": [],
   "source": [
    "rane=np.arange(3)"
   ]
  },
  {
   "cell_type": "code",
   "execution_count": 37,
   "id": "087cffa1-f795-4d09-ae6c-982540d3143f",
   "metadata": {},
   "outputs": [
    {
     "data": {
      "text/plain": [
       "array([0, 1, 2])"
      ]
     },
     "execution_count": 37,
     "metadata": {},
     "output_type": "execute_result"
    }
   ],
   "source": [
    "rane"
   ]
  },
  {
   "cell_type": "markdown",
   "id": "0b696b31-3115-4d91-81f5-f301f6a319c6",
   "metadata": {},
   "source": [
    "***Lanespace function is used to get eual space from start to end***"
   ]
  },
  {
   "cell_type": "code",
   "execution_count": 38,
   "id": "d0dbafa2-4781-4396-8ad9-c44044d537b9",
   "metadata": {},
   "outputs": [],
   "source": [
    "equalspace=np.linspace(1,10,5)"
   ]
  },
  {
   "cell_type": "code",
   "execution_count": 39,
   "id": "a1e5e1fe-9d7c-4be2-86f0-2b33ed3a097f",
   "metadata": {},
   "outputs": [
    {
     "data": {
      "text/plain": [
       "array([ 1.  ,  3.25,  5.5 ,  7.75, 10.  ])"
      ]
     },
     "execution_count": 39,
     "metadata": {},
     "output_type": "execute_result"
    }
   ],
   "source": [
    "equalspace"
   ]
  },
  {
   "cell_type": "markdown",
   "id": "59ca04c0-097d-42b5-835a-5e9e5f024bbc",
   "metadata": {},
   "source": [
    "***For random element we use empty(x,y) function where it gives random numbers in x*y matrix***"
   ]
  },
  {
   "cell_type": "code",
   "execution_count": 40,
   "id": "58d3ff52-84de-4fa6-8ce2-8522b925784f",
   "metadata": {},
   "outputs": [],
   "source": [
    "emp=np.empty((3,2))"
   ]
  },
  {
   "cell_type": "code",
   "execution_count": 41,
   "id": "28109bdd-2833-4487-a0a9-ce782dfee5fb",
   "metadata": {},
   "outputs": [
    {
     "data": {
      "text/plain": [
       "array([[1., 1.],\n",
       "       [1., 1.],\n",
       "       [1., 1.]])"
      ]
     },
     "execution_count": 41,
     "metadata": {},
     "output_type": "execute_result"
    }
   ],
   "source": [
    "emp"
   ]
  },
  {
   "cell_type": "code",
   "execution_count": 42,
   "id": "8130c489-4bb1-41c5-99cf-7fa175ba9e4b",
   "metadata": {},
   "outputs": [],
   "source": [
    "emparray=np.empty_like(arr)"
   ]
  },
  {
   "cell_type": "code",
   "execution_count": 43,
   "id": "28a25eed-52f3-4164-8179-548485252a90",
   "metadata": {},
   "outputs": [
    {
     "data": {
      "text/plain": [
       "array([1, 2, 3, 4, 5])"
      ]
     },
     "execution_count": 43,
     "metadata": {},
     "output_type": "execute_result"
    }
   ],
   "source": [
    "emparray"
   ]
  },
  {
   "cell_type": "code",
   "execution_count": 44,
   "id": "84ac348c-2334-4b07-b9df-17f265b514e4",
   "metadata": {},
   "outputs": [],
   "source": [
    "emparray1=np.empty_like(myarr)"
   ]
  },
  {
   "cell_type": "code",
   "execution_count": 45,
   "id": "b26cbfa7-ec43-4e50-bfa3-5e7d2ddf0be2",
   "metadata": {},
   "outputs": [
    {
     "data": {
      "text/plain": [
       "array([None, None, None, None, None, None, None], dtype=object)"
      ]
     },
     "execution_count": 45,
     "metadata": {},
     "output_type": "execute_result"
    }
   ],
   "source": [
    "emparray1\n"
   ]
  },
  {
   "cell_type": "markdown",
   "id": "9b5fe7a8-070b-4250-a44b-50866e7c68e1",
   "metadata": {},
   "source": [
    "****For Changing the shape ****"
   ]
  },
  {
   "cell_type": "code",
   "execution_count": 46,
   "id": "1d98f7eb-5410-4f1e-8ab0-18b04cc1c15b",
   "metadata": {},
   "outputs": [],
   "source": [
    "arr=np.arange(99)"
   ]
  },
  {
   "cell_type": "code",
   "execution_count": 47,
   "id": "b29980ca-8d05-4839-9526-c26495e58643",
   "metadata": {},
   "outputs": [
    {
     "data": {
      "text/plain": [
       "array([[ 0,  1,  2,  3,  4,  5,  6,  7,  8,  9, 10, 11, 12, 13, 14, 15,\n",
       "        16, 17, 18, 19, 20, 21, 22, 23, 24, 25, 26, 27, 28, 29, 30, 31,\n",
       "        32],\n",
       "       [33, 34, 35, 36, 37, 38, 39, 40, 41, 42, 43, 44, 45, 46, 47, 48,\n",
       "        49, 50, 51, 52, 53, 54, 55, 56, 57, 58, 59, 60, 61, 62, 63, 64,\n",
       "        65],\n",
       "       [66, 67, 68, 69, 70, 71, 72, 73, 74, 75, 76, 77, 78, 79, 80, 81,\n",
       "        82, 83, 84, 85, 86, 87, 88, 89, 90, 91, 92, 93, 94, 95, 96, 97,\n",
       "        98]])"
      ]
     },
     "execution_count": 47,
     "metadata": {},
     "output_type": "execute_result"
    }
   ],
   "source": [
    "arr.reshape(3,33)"
   ]
  },
  {
   "cell_type": "code",
   "execution_count": 48,
   "id": "b98db9f0-7e94-4365-a9c2-2a2a3bb643aa",
   "metadata": {},
   "outputs": [],
   "source": [
    "shape=arr.reshape(11,9)"
   ]
  },
  {
   "cell_type": "code",
   "execution_count": 49,
   "id": "11333538-a146-4d45-9701-7a12afefac74",
   "metadata": {},
   "outputs": [
    {
     "data": {
      "text/plain": [
       "array([[ 0,  1,  2,  3,  4,  5,  6,  7,  8],\n",
       "       [ 9, 10, 11, 12, 13, 14, 15, 16, 17],\n",
       "       [18, 19, 20, 21, 22, 23, 24, 25, 26],\n",
       "       [27, 28, 29, 30, 31, 32, 33, 34, 35],\n",
       "       [36, 37, 38, 39, 40, 41, 42, 43, 44],\n",
       "       [45, 46, 47, 48, 49, 50, 51, 52, 53],\n",
       "       [54, 55, 56, 57, 58, 59, 60, 61, 62],\n",
       "       [63, 64, 65, 66, 67, 68, 69, 70, 71],\n",
       "       [72, 73, 74, 75, 76, 77, 78, 79, 80],\n",
       "       [81, 82, 83, 84, 85, 86, 87, 88, 89],\n",
       "       [90, 91, 92, 93, 94, 95, 96, 97, 98]])"
      ]
     },
     "execution_count": 49,
     "metadata": {},
     "output_type": "execute_result"
    }
   ],
   "source": [
    "shape"
   ]
  },
  {
   "cell_type": "code",
   "execution_count": 50,
   "id": "f1d4339c-27e2-4353-a34d-970c0a8b2f1e",
   "metadata": {},
   "outputs": [],
   "source": [
    "oldshape=arr.ravel()"
   ]
  },
  {
   "cell_type": "code",
   "execution_count": 51,
   "id": "3a098d57-40ce-495d-b1fa-ebbe506afb67",
   "metadata": {},
   "outputs": [
    {
     "data": {
      "text/plain": [
       "array([ 0,  1,  2,  3,  4,  5,  6,  7,  8,  9, 10, 11, 12, 13, 14, 15, 16,\n",
       "       17, 18, 19, 20, 21, 22, 23, 24, 25, 26, 27, 28, 29, 30, 31, 32, 33,\n",
       "       34, 35, 36, 37, 38, 39, 40, 41, 42, 43, 44, 45, 46, 47, 48, 49, 50,\n",
       "       51, 52, 53, 54, 55, 56, 57, 58, 59, 60, 61, 62, 63, 64, 65, 66, 67,\n",
       "       68, 69, 70, 71, 72, 73, 74, 75, 76, 77, 78, 79, 80, 81, 82, 83, 84,\n",
       "       85, 86, 87, 88, 89, 90, 91, 92, 93, 94, 95, 96, 97, 98])"
      ]
     },
     "execution_count": 51,
     "metadata": {},
     "output_type": "execute_result"
    }
   ],
   "source": [
    "oldshape"
   ]
  },
  {
   "cell_type": "code",
   "execution_count": null,
   "id": "9aacb8f1-e3bd-4bb0-bd5a-9d14958cce56",
   "metadata": {},
   "outputs": [],
   "source": []
  }
 ],
 "metadata": {
  "kernelspec": {
   "display_name": "Python 3 (ipykernel)",
   "language": "python",
   "name": "python3"
  },
  "language_info": {
   "codemirror_mode": {
    "name": "ipython",
    "version": 3
   },
   "file_extension": ".py",
   "mimetype": "text/x-python",
   "name": "python",
   "nbconvert_exporter": "python",
   "pygments_lexer": "ipython3",
   "version": "3.12.4"
  }
 },
 "nbformat": 4,
 "nbformat_minor": 5
}
